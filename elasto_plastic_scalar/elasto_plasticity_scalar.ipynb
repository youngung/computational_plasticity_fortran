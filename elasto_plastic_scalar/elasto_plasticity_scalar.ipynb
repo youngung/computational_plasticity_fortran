{
 "cells": [
  {
   "cell_type": "code",
   "execution_count": 1,
   "metadata": {},
   "outputs": [
    {
     "name": "stdout",
     "output_type": "stream",
     "text": [
      "Populating the interactive namespace from numpy and matplotlib\n"
     ]
    }
   ],
   "source": [
    "%pylab inline"
   ]
  },
  {
   "cell_type": "code",
   "execution_count": 2,
   "metadata": {},
   "outputs": [
    {
     "name": "stdout",
     "output_type": "stream",
     "text": [
      "elasto_plasticity_scalar.f\r\n"
     ]
    }
   ],
   "source": [
    "ls *.f"
   ]
  },
  {
   "cell_type": "code",
   "execution_count": 32,
   "metadata": {},
   "outputs": [],
   "source": [
    "!gfortran elasto_plasticity_scalar.f -o elasto_plasticity_scalar"
   ]
  },
  {
   "cell_type": "code",
   "execution_count": 33,
   "metadata": {},
   "outputs": [],
   "source": [
    "!./elasto_plasticity_scalar"
   ]
  },
  {
   "cell_type": "code",
   "execution_count": 34,
   "metadata": {},
   "outputs": [
    {
     "name": "stdout",
     "output_type": "stream",
     "text": [
      "   0.0000   1.0000  0.000000      0.00 0 0\r\n",
      "   0.0230   1.0002  0.000230     46.00 0 0\r\n",
      "   0.0460   1.0005  0.000460     91.99 0 0\r\n",
      "   0.0690   1.0007  0.000690    137.97 0 0\r\n",
      "   0.0920   1.0009  0.000920    183.94 1 2\r\n",
      "   0.1150   1.0011  0.001149    200.00 1 2\r\n",
      "   0.1380   1.0014  0.001379    200.00 1 2\r\n",
      "   0.1610   1.0016  0.001609    200.00 1 2\r\n",
      "   0.1840   1.0018  0.001839    200.00 1 2\r\n",
      "   0.2070   1.0021  0.002068    200.00 1 2\r\n",
      "   0.2300   1.0023  0.002298    200.00 1 2\r\n",
      "   0.2530   1.0025  0.002527    200.00 0 0\r\n",
      "   0.2760   1.0023  0.002298    154.12 0 0\r\n",
      "   0.2990   1.0021  0.002068    108.22 0 0\r\n",
      "   0.3220   1.0018  0.001839     62.32 0 0\r\n",
      "   0.3450   1.0016  0.001609     16.40 0 0\r\n",
      "   0.3680   1.0014  0.001379    -29.53 0 0\r\n",
      "   0.3910   1.0011  0.001150    -75.46 0 0\r\n",
      "   0.4140   1.0009  0.000920   -121.41 0 0\r\n",
      "   0.4370   1.0007  0.000690   -167.37 1 2\r\n",
      "   0.4600   1.0005  0.000460   -200.00 1 2\r\n",
      "   0.4830   1.0002  0.000231   -200.00 1 2\r\n",
      "   0.5060   1.0000  0.000001   -200.00 1 2\r\n",
      "   0.5290   0.9998 -0.000229   -200.00 1 2\r\n",
      "   0.5520   0.9995 -0.000459   -200.00 0 0\r\n",
      "   0.5750   0.9998 -0.000229   -153.98 0 0\r\n",
      "   0.5980   1.0000  0.000001   -107.97 0 0\r\n",
      "   0.6210   1.0002  0.000231    -61.97 0 0\r\n",
      "   0.6440   1.0005  0.000461    -15.98 0 0\r\n",
      "   0.6670   1.0007  0.000691     30.00 0 0\r\n",
      "   0.6900   1.0009  0.000920     75.97 0 0\r\n",
      "   0.7130   1.0011  0.001150    121.93 0 0\r\n",
      "   0.7360   1.0014  0.001380    167.87 1 2\r\n",
      "   0.7590   1.0016  0.001610    200.00 1 2\r\n",
      "   0.7820   1.0018  0.001839    200.00 1 2\r\n",
      "   0.8050   1.0021  0.002069    200.00 1 2\r\n",
      "   0.8280   1.0023  0.002298    200.00 1 2\r\n",
      "   0.8510   1.0025  0.002528    200.00 1 3\r\n",
      "   0.8740   1.0028  0.002757    200.00 1 2\r\n",
      "   0.8970   1.0030  0.002987    200.00 1 2\r\n",
      "   0.9200   1.0032  0.003216    200.00 1 2\r\n",
      "   0.9430   1.0034  0.003445    200.00 1 2\r\n",
      "   0.9660   1.0037  0.003674    200.00 1 2\r\n",
      "   0.9890   1.0039  0.003904    200.00 1 2\r\n"
     ]
    }
   ],
   "source": [
    "!cat elasto_plasticity_scalar.txt"
   ]
  },
  {
   "cell_type": "code",
   "execution_count": 35,
   "metadata": {},
   "outputs": [
    {
     "data": {
      "text/plain": [
       "[<matplotlib.lines.Line2D at 0x10ee72a90>]"
      ]
     },
     "execution_count": 35,
     "metadata": {},
     "output_type": "execute_result"
    },
    {
     "data": {
      "image/png": "[encoded data removed]",
      "text/plain": [
       "<Figure size 432x288 with 1 Axes>"
      ]
     },
     "metadata": {
      "needs_background": "light"
     },
     "output_type": "display_data"
    }
   ],
   "source": [
    "dat=np.loadtxt('elasto_plasticity_scalar.txt').T\n",
    "plot(dat[2],dat[3],'-x')"
   ]
  },
  {
   "cell_type": "code",
   "execution_count": null,
   "metadata": {},
   "outputs": [],
   "source": []
  },
  {
   "cell_type": "code",
   "execution_count": null,
   "metadata": {},
   "outputs": [],
   "source": []
  }
 ],
 "metadata": {
  "kernelspec": {
   "display_name": "Python 3",
   "language": "python",
   "name": "python3"
  },
  "language_info": {
   "codemirror_mode": {
    "name": "ipython",
    "version": 3
   },
   "file_extension": ".py",
   "mimetype": "text/x-python",
   "name": "python",
   "nbconvert_exporter": "python",
   "pygments_lexer": "ipython3",
   "version": "3.7.7"
  }
 },
 "nbformat": 4,
 "nbformat_minor": 2
}
